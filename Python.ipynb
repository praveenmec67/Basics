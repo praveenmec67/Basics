{
 "cells": [
  {
   "cell_type": "markdown",
   "metadata": {},
   "source": [
    "# Python - Basic Concepts"
   ]
  },
  {
   "cell_type": "markdown",
   "metadata": {},
   "source": [
    "# Mutable and Immutable Objects"
   ]
  },
  {
   "cell_type": "code",
   "execution_count": null,
   "metadata": {},
   "outputs": [],
   "source": [
    "#A variable in python is an object of the particular data type class.\n",
    "#Immutable objects - The contents of the immutable objects cannot be changed. eg. string,int,bool,float,tuple\n",
    "#Mutable objects - The contents of the mutable objects can be changed. eg. list,set,dictionaries\n",
    "\n",
    "#References\n",
    "#https://www.geeksforgeeks.org/mutable-vs-immutable-objects-in-python/#:~:text=To%20summarise%20the%20difference%2C%20mutable,changed%20after%20it%20is%20created.\n",
    "    "
   ]
  },
  {
   "cell_type": "code",
   "execution_count": null,
   "metadata": {},
   "outputs": [],
   "source": [
    "a=10                      #A new variable 'a' is created and its address is printed\n",
    "print(id(a))"
   ]
  },
  {
   "cell_type": "code",
   "execution_count": null,
   "metadata": {},
   "outputs": [],
   "source": [
    "a=12                      #The variable 'a' is updated and hence its address is updated. Also int,bool,float,string and tuples are immutable\n",
    "print(id(a))"
   ]
  },
  {
   "cell_type": "code",
   "execution_count": null,
   "metadata": {},
   "outputs": [],
   "source": [
    "b=[1,2,3,4]               #A new list variable 'b' is created and its address is printed\n",
    "print(id(b))"
   ]
  },
  {
   "cell_type": "code",
   "execution_count": null,
   "metadata": {},
   "outputs": [],
   "source": [
    "b[3]=5                    #The content of the list is updated but still the address of the list remains unchanged. List is an example of immutable objects\n",
    "print(id(b))"
   ]
  },
  {
   "cell_type": "code",
   "execution_count": null,
   "metadata": {},
   "outputs": [],
   "source": [
    "e=([1,2,3],'india')       #Tuple is an immutable object. But it possible to update a mutable object within an immutable object as show in below example. Here the list within the tuple is updated\n",
    "e[0][1]=3\n",
    "print(e)\n",
    "e[1][0]='j'\n",
    "print(e)"
   ]
  },
  {
   "cell_type": "markdown",
   "metadata": {},
   "source": [
    "# Global and Globals"
   ]
  },
  {
   "cell_type": "code",
   "execution_count": null,
   "metadata": {},
   "outputs": [],
   "source": [
    "#Global Variable - A variable that is defined outside the function\n",
    "#Local Variable - A variable that is defined inside the function\n",
    "\n",
    "# A global variable can be accessed inside a function,but a local variable cannot be accessed outside the function\n",
    "\n",
    "#References\n",
    "#https://www.youtube.com/watch?v=QYUbLevwgDQ&list=PLsyeobzWxl7poL9JTVyndKe62ieoN-MZ3&index=40\n"
   ]
  },
  {
   "cell_type": "code",
   "execution_count": null,
   "metadata": {},
   "outputs": [],
   "source": [
    "\n",
    "out=10                   #global variable\n",
    "\n",
    "print(id(out))\n",
    "\n",
    "def glob():\n",
    "    \n",
    "    ins=9                #local variable\n",
    "    \n",
    "    global out           #calling the global variable explicitly in case if the global variable needs to be updated with the new value even when its called outside a function \n",
    "    \n",
    "    print(id(out))       #the id of the global variable will remain same untill its updated\n",
    "    \n",
    "    out=11               #if called without 'global out' as above, then a new local variable out will be created rather than updating the global variable out\n",
    "    \n",
    "    print(id(out))       #now the id of the same global out variable gets updated as we know int are immutable\n",
    "    \n",
    "    print(out)           #updated global variable \n",
    "    \n",
    "    globals()['out']=12  #the globals function is used when we want to use a global variable and local variable with the same name(as shown below) inside a function\n",
    "    \n",
    "    print(out)\n",
    "    \n",
    "    print(id(out))       #id of global variable would be updated \n",
    "    \n",
    "    out=15               #local variable with the same name as the global variable\n",
    "    \n",
    "    print(id(out))       #we can see that the id of local variable 'out' is not same as that of the global variable 'out'\n",
    "    \n",
    "\n",
    "glob()\n",
    "print(ins)               #local variable can't be referenced outside a function"
   ]
  }
 ],
 "metadata": {
  "kernelspec": {
   "display_name": "Python 3",
   "language": "python",
   "name": "python3"
  },
  "language_info": {
   "codemirror_mode": {
    "name": "ipython",
    "version": 3
   },
   "file_extension": ".py",
   "mimetype": "text/x-python",
   "name": "python",
   "nbconvert_exporter": "python",
   "pygments_lexer": "ipython3",
   "version": "3.8.5"
  }
 },
 "nbformat": 4,
 "nbformat_minor": 4
}
